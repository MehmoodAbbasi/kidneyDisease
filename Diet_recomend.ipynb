{
 "cells": [
  {
   "cell_type": "code",
   "execution_count": null,
   "metadata": {},
   "outputs": [],
   "source": [
    "# Sample Food Database \n",
    "food_db = {\n",
    "    \"egg_whites\": {\"protein\": 4, \"potassium\": 55, \"phosphorus\": 5, \"sodium\": 55, \"oxalate\": 0},\n",
    "    \"spinach\": {\"protein\": 2, \"potassium\": 167, \"phosphorus\": 15, \"sodium\": 24, \"oxalate\": 750},\n",
    "    \"cauliflower\": {\"protein\": 2, \"potassium\": 200, \"phosphorus\": 40, \"sodium\": 30, \"oxalate\": 10},\n",
    "    \"apple\": {\"protein\": 0, \"potassium\": 107, \"phosphorus\": 10, \"sodium\": 1, \"oxalate\": 0},\n",
    "    # Add more foods...\n",
    "}\n"
   ]
  },
  {
   "cell_type": "code",
   "execution_count": null,
   "metadata": {},
   "outputs": [],
   "source": [
    "def get_user_profile():\n",
    "    profile = {\n",
    "        \"age\": int(input(\"Age: \")),\n",
    "        \"weight_kg\": float(input(\"Weight (kg): \")),\n",
    "        \"ckd_stage\": input(\"CKD Stage (1-5 or 'none'): \").lower(),\n",
    "        \"conditions\": input(\"Conditions (comma-separated, e.g., diabetes, hypertension): \").lower().split(\", \"),\n",
    "        \"diet_preference\": input(\"Dietary preference (e.g., vegetarian, none): \").lower()\n",
    "    }\n",
    "    return profile\n"
   ]
  },
  {
   "cell_type": "code",
   "execution_count": 3,
   "metadata": {},
   "outputs": [],
   "source": [
    "def generate_diet_plan(profile, food_db):\n",
    "    plan = {\"recommendations\": [], \"meals\": [], \"warnings\": []}\n",
    "    \n",
    "    # Protein intake rules\n",
    "    if profile[\"ckd_stage\"] in [\"4\", \"5\"]:\n",
    "        protein_limit = 0.6 * profile[\"weight_kg\"]\n",
    "    elif profile[\"ckd_stage\"] in [\"1\", \"2\", \"3\"]:\n",
    "        protein_limit = 0.8 * profile[\"weight_kg\"]\n",
    "    else:  # Prevention\n",
    "        protein_limit = 1.0 * profile[\"weight_kg\"]\n",
    "    plan[\"recommendations\"].append(f\"Limit protein to {protein_limit:.1f}g/day\")\n",
    "    \n",
    "    # Potassium/phosphorus restrictions\n",
    "    if profile[\"ckd_stage\"] in [\"3\", \"4\", \"5\"]:\n",
    "        plan[\"recommendations\"].append(\"Avoid high-potassium foods (bananas, oranges)\")\n",
    "        plan[\"recommendations\"].append(\"Avoid processed foods (high phosphorus)\")\n",
    "    \n",
    "    # Diabetes: Low glycemic index\n",
    "    if \"diabetes\" in profile[\"conditions\"]:\n",
    "        plan[\"recommendations\"].append(\"Choose low-glycemic foods (e.g., cauliflower rice)\")\n",
    "    \n",
    "    # Generate sample meal (simplified)\n",
    "    plan[\"meals\"] = [\n",
    "        \"Breakfast: Egg whites + steamed cauliflower\",\n",
    "        \"Lunch: Grilled chicken salad (avoid spinach if oxalate-sensitive)\",\n",
    "        \"Snack: Apple slices\",\n",
    "        \"Dinner: Baked fish + green beans\"\n",
    "    ]\n",
    "    \n",
    "    # Safety checks\n",
    "    if \"spinach\" in food_db and \"kidney_stones\" in profile[\"conditions\"]:\n",
    "        plan[\"warnings\"].append(\"Avoid spinach (high oxalate)\")\n",
    "    \n",
    "    return plan"
   ]
  },
  {
   "cell_type": "code",
   "execution_count": 4,
   "metadata": {},
   "outputs": [],
   "source": [
    "def display_plan(plan):\n",
    "    print(\"\\n--- Your CKD Diet Plan ---\")\n",
    "    print(\"\\nRecommendations:\")\n",
    "    for item in plan[\"recommendations\"]:\n",
    "        print(f\"- {item}\")\n",
    "    \n",
    "    print(\"\\nSample Daily Meals:\")\n",
    "    for meal in plan[\"meals\"]:\n",
    "        print(f\"- {meal}\")\n",
    "    \n",
    "    if plan[\"warnings\"]:\n",
    "        print(\"\\nWarnings:\")\n",
    "        for warning in plan[\"warnings\"]:\n",
    "            print(f\"- {warning}\")\n",
    "    \n",
    "    print(\"\\nDisclaimer: Consult your nephrologist before making dietary changes.\")"
   ]
  },
  {
   "cell_type": "code",
   "execution_count": 6,
   "metadata": {},
   "outputs": [
    {
     "name": "stdout",
     "output_type": "stream",
     "text": [
      "Welcome to the CKD Diet Advisor!\n",
      "\n",
      "\n",
      "--- Your CKD Diet Plan ---\n",
      "\n",
      "Recommendations:\n",
      "- Limit protein to 60.0g/day\n",
      "- Avoid high-potassium foods (bananas, oranges)\n",
      "- Avoid processed foods (high phosphorus)\n",
      "\n",
      "Sample Daily Meals:\n",
      "- Breakfast: Egg whites + steamed cauliflower\n",
      "- Lunch: Grilled chicken salad (avoid spinach if oxalate-sensitive)\n",
      "- Snack: Apple slices\n",
      "- Dinner: Baked fish + green beans\n",
      "\n",
      "Disclaimer: Consult your nephrologist before making dietary changes.\n"
     ]
    }
   ],
   "source": [
    "if __name__ == \"__main__\":\n",
    "    print(\"Welcome to the CKD Diet Advisor!\\n\")\n",
    "    user_profile = get_user_profile()\n",
    "    diet_plan = generate_diet_plan(user_profile, food_db)\n",
    "    display_plan(diet_plan)"
   ]
  }
 ],
 "metadata": {
  "kernelspec": {
   "display_name": "final",
   "language": "python",
   "name": "python3"
  },
  "language_info": {
   "codemirror_mode": {
    "name": "ipython",
    "version": 3
   },
   "file_extension": ".py",
   "mimetype": "text/x-python",
   "name": "python",
   "nbconvert_exporter": "python",
   "pygments_lexer": "ipython3",
   "version": "3.10.14"
  }
 },
 "nbformat": 4,
 "nbformat_minor": 2
}
